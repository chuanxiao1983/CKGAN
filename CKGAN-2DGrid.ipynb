{
 "cells": [
  {
   "cell_type": "code",
   "execution_count": 1,
   "metadata": {
    "id": "Q2b028ZrmWAL",
    "outputId": "cfe9a4ac-146f-45cb-87ca-592ec0fe5404"
   },
   "outputs": [
    {
     "name": "stdout",
     "output_type": "stream",
     "text": [
      "True\n"
     ]
    },
    {
     "data": {
      "image/png": "[encoded data removed]",
      "text/plain": [
       "<Figure size 144x144 with 1 Axes>"
      ]
     },
     "metadata": {
      "needs_background": "light"
     },
     "output_type": "display_data"
    },
    {
     "name": "stdout",
     "output_type": "stream",
     "text": [
      "Epoch 1/10\n",
      "79/79 [==============================] - 0s 2ms/step - loss: 1.2035 - acc: 0.5656\n",
      "Epoch 2/10\n",
      "79/79 [==============================] - 0s 2ms/step - loss: 0.3858 - acc: 0.8276\n",
      "Epoch 3/10\n",
      "79/79 [==============================] - 0s 2ms/step - loss: 0.1437 - acc: 0.9652\n",
      "Epoch 4/10\n",
      "79/79 [==============================] - 0s 2ms/step - loss: 0.0040 - acc: 1.0000\n",
      "Epoch 5/10\n",
      "79/79 [==============================] - 0s 2ms/step - loss: 0.0013 - acc: 1.0000\n",
      "Epoch 6/10\n",
      "79/79 [==============================] - 0s 2ms/step - loss: 7.7536e-04 - acc: 1.0000\n",
      "Epoch 7/10\n",
      "79/79 [==============================] - 0s 2ms/step - loss: 3.8584e-04 - acc: 1.0000\n",
      "Epoch 8/10\n",
      "79/79 [==============================] - 0s 2ms/step - loss: 2.7908e-04 - acc: 1.0000\n",
      "Epoch 9/10\n",
      "79/79 [==============================] - 0s 2ms/step - loss: 1.9204e-04 - acc: 1.0000\n",
      "Epoch 10/10\n",
      "79/79 [==============================] - 0s 2ms/step - loss: 1.4714e-04 - acc: 1.0000\n"
     ]
    },
    {
     "data": {
      "text/plain": [
       "<tensorflow.python.keras.callbacks.History at 0x7f1157a14310>"
      ]
     },
     "execution_count": 1,
     "metadata": {},
     "output_type": "execute_result"
    }
   ],
   "source": [
    "import numpy as np\n",
    "import os\n",
    "# os.environ[\"CUDA_VISIBLE_DEVICES\"] = \"6\"\n",
    "import matplotlib.pyplot as plt\n",
    "%matplotlib inline\n",
    "import seaborn as sns\n",
    "import tensorflow as tf\n",
    "print(tf.test.is_gpu_available())\n",
    "from scipy.stats import wasserstein_distance\n",
    "\n",
    "\n",
    "covs=[]   \n",
    "means=[]\n",
    "y=[]\n",
    "#3std: number of high quality samples\n",
    "#1std: number of modes captured\n",
    "def one_point_in_mean(point, captured_number):\n",
    "        for i,(mode_point,cov) in enumerate(zip(mean,covs)):\n",
    "            if point[0] > mode_point[0]-3*cov[0] and point[0] < mode_point[0]+3*cov[0] and \\\n",
    "               point[1] > mode_point[1]-3*cov[1] and point[1] < mode_point[1]+3*cov[1]:\n",
    "                if point[0] > mode_point[0]-1*cov[0] and point[0] < mode_point[0]+1*cov[0] and \\\n",
    "                   point[1] > mode_point[1]-1*cov[1] and point[1] < mode_point[1]+1*cov[1]:\n",
    "                    captured_number.add(i)\n",
    "                return True\n",
    "        return False\n",
    "def compute_high_qulity(points, captured_number):\n",
    "    number = 0\n",
    "    for point in points:\n",
    "        if one_point_in_mean(point, captured_number):\n",
    "            number+=1\n",
    "    return number/points.shape[0]\n",
    "def high_qulity_and_number_of_captured(data, iters=1):\n",
    "    high_qulity_score = 0.0\n",
    "    captured_numbers = 0.0\n",
    "    for i in range(iters):\n",
    "        captured_number = set()\n",
    "        high_qulity_score += compute_high_qulity(data,captured_number)\n",
    "        captured_numbers += len(captured_number)\n",
    "    return high_qulity_score/iters, captured_numbers/iters\n",
    "#compute KL distance \n",
    "kl = tf.keras.losses.KLDivergence()\n",
    "def compute_KL_distance(real_samples, generated_samples):\n",
    "    return kl(tf.reduce_mean(classifier(real_samples),axis=0),tf.reduce_mean(classifier(generated_samples),axis=0))\n",
    "def compute_W_distance(real_samples, generated_samples):\n",
    "    return wasserstein_distance(tf.reduce_mean(classifier(real_samples),axis=0),tf.reduce_mean(classifier(generated_samples),axis=0))\n",
    "#test function compute three metrics\n",
    "def test_diversity_of_GAN(generator, iters=1, is_VEEGAN=False):\n",
    "    \"\"\"\n",
    "    input\n",
    "    iters: times of trial\n",
    "    is_VEEGAN: is VEEGAN\n",
    "    \n",
    "    return \n",
    "    1.number of modes captured\n",
    "    2.number of high quality samples\n",
    "    3.KL distance\n",
    "    \"\"\"\n",
    "    number_high_quality = 0.0\n",
    "    number_modes = 0.0\n",
    "    KL_distance = 0.0\n",
    "    w_distance = 0.0\n",
    "    for i in range(iters):\n",
    "        if is_VEEGAN:\n",
    "          sample_z = tf.random.normal((batch_size,z_dim))\n",
    "        else:\n",
    "          sample_z = tf.random.uniform((batch_size,z_dim), minval=-1, maxval=1)\n",
    "        test_data = generator(sample_z)\n",
    "        temp_high_quality, temp_number_modes=high_qulity_and_number_of_captured(test_data.numpy())\n",
    "        number_high_quality += temp_high_quality\n",
    "        number_modes += temp_number_modes\n",
    "        KL_distance += compute_KL_distance(data, test_data.numpy())\n",
    "        w_distance += compute_W_distance(data, test_data.numpy())\n",
    "    return number_modes/iters,number_high_quality/iters,(KL_distance/iters).numpy(), w_distance/iters\n",
    "\n",
    "\n",
    "def gen_clusters(mean, cov=0.001, number=50):\n",
    "    cov_matrix = [[cov,0],[0,cov]]\n",
    "    for i,m in enumerate(mean):\n",
    "      y.extend([i]*number)\n",
    "      if i == 0:\n",
    "        data = np.random.multivariate_normal(m, cov_matrix, number)\n",
    "        covs.append(np.std(data,axis=0).tolist())\n",
    "        means.append(np.mean(data,axis=0).tolist())\n",
    "      else:\n",
    "        d = np.random.multivariate_normal(m,cov_matrix,number)\n",
    "        covs.append(np.std(d,axis=0).tolist())\n",
    "        means.append(np.mean(d,axis=0).tolist())\n",
    "        data = np.append(data, d,0)  \n",
    "    return np.round(data,4)\n",
    "  \n",
    "def save_data(data,filename):\n",
    "    with open(filename,'w') as file:\n",
    "        for i in range(data.shape[0]):\n",
    "            file.write(str(data[i,0])+','+str(data[i,1])+'\\n')\n",
    "            \n",
    "def load_data(filename):\n",
    "    data = []\n",
    "    with open(filename,'r') as file:\n",
    "        for line in file.readlines():\n",
    "            data.append([ float(i) for i in line.split(',')])\n",
    "    return np.array(data)\n",
    "\n",
    "def show_scatter(data):\n",
    "    x,y = data.T\n",
    "    plt.figure(figsize=(2,2))\n",
    "    flatui = [\"#2ecc71\"]\n",
    "    plt.scatter(x,y,c=\"g\",alpha=0.1)\n",
    "    \n",
    "    # sns.scatterplot(x,y,palette=sns.color_palette(flatui),alpha=0.5)\n",
    "    plt.axis()\n",
    "    plt.title(\"scatter\")\n",
    "    plt.xticks([-1,0,1])\n",
    "    plt.yticks([-1,0,1])\n",
    "    plt.show()\n",
    "    \n",
    "def show_scatter(data, color=\"Greens\", epsilon=1e-9):\n",
    "    \n",
    "    data+=epsilon\n",
    "    plt.figure(figsize=(2,2))\n",
    "    bg_color=sns.color_palette(color, n_colors=256)[0]\n",
    "    ax=sns.kdeplot(data[:,0],data[:,1], shade=True, cmap=color, n_levels=30)\n",
    "    # plt.xticks([-1,0,1])\n",
    "    # plt.yticks([-1,0,1])\n",
    "    plt.axis('off')\n",
    "    plt.show()\n",
    "\n",
    "\n",
    "\n",
    "epochs = 2000000\n",
    "\n",
    "# offset = 0.7\n",
    "# mean = [[0,-1],[0,1],[-1,0],[1,0],[-offset,offset],[-offset,-offset],[offset,offset],[offset,-offset]]\n",
    "mean = []\n",
    "for i in range(5):\n",
    "  for j in range(5):\n",
    "    mean.append([-4+2*i, 2*j-4])\n",
    "data = gen_clusters(mean,cov=0.005,number=100)\n",
    "show_scatter(data)\n",
    "\n",
    "classifier = tf.keras.models.Sequential([\n",
    "    tf.keras.layers.Dense(256,activation=\"relu\"),\n",
    "    tf.keras.layers.Dense(256,activation=\"relu\"),\n",
    "    tf.keras.layers.Dense(256,activation=\"relu\"),\n",
    "    tf.keras.layers.Dense(256,activation=\"relu\"),\n",
    "    tf.keras.layers.Dense(256,activation=\"relu\"),\n",
    "    tf.keras.layers.Dense(256,activation=\"relu\"),\n",
    "    tf.keras.layers.Dense(len(mean),activation=\"softmax\"),\n",
    "])\n",
    "classifier.compile(optimizer=\"adam\",loss=tf.losses.sparse_categorical_crossentropy,metrics=[\"acc\"])\n",
    "classifier.fit(data,np.array(y),epochs=10)"
   ]
  },
  {
   "cell_type": "markdown",
   "metadata": {},
   "source": [
    "# CKGAN using linear combination of characteristic kernels"
   ]
  },
  {
   "cell_type": "code",
   "execution_count": 2,
   "metadata": {},
   "outputs": [
    {
     "name": "stdout",
     "output_type": "stream",
     "text": [
      "Model: \"functional_1\"\n",
      "_________________________________________________________________\n",
      "Layer (type)                 Output Shape              Param #   \n",
      "=================================================================\n",
      "input_1 (InputLayer)         [(None, 2)]               0         \n",
      "_________________________________________________________________\n",
      "dense_7 (Dense)              (None, 1024)              3072      \n",
      "_________________________________________________________________\n",
      "batch_normalization (BatchNo (None, 1024)              4096      \n",
      "_________________________________________________________________\n",
      "re_lu (ReLU)                 (None, 1024)              0         \n",
      "_________________________________________________________________\n",
      "dense_8 (Dense)              (None, 1024)              1049600   \n",
      "_________________________________________________________________\n",
      "batch_normalization_1 (Batch (None, 1024)              4096      \n",
      "_________________________________________________________________\n",
      "re_lu_1 (ReLU)               (None, 1024)              0         \n",
      "_________________________________________________________________\n",
      "dense_9 (Dense)              (None, 1024)              1049600   \n",
      "_________________________________________________________________\n",
      "batch_normalization_2 (Batch (None, 1024)              4096      \n",
      "_________________________________________________________________\n",
      "re_lu_2 (ReLU)               (None, 1024)              0         \n",
      "_________________________________________________________________\n",
      "dense_10 (Dense)             (None, 2)                 2050      \n",
      "=================================================================\n",
      "Total params: 2,116,610\n",
      "Trainable params: 2,110,466\n",
      "Non-trainable params: 6,144\n",
      "_________________________________________________________________\n",
      "Model: \"functional_3\"\n",
      "_________________________________________________________________\n",
      "Layer (type)                 Output Shape              Param #   \n",
      "=================================================================\n",
      "input_2 (InputLayer)         [(None, 2)]               0         \n",
      "_________________________________________________________________\n",
      "dense_11 (Dense)             (None, 1024)              3072      \n",
      "_________________________________________________________________\n",
      "batch_normalization_3 (Batch (None, 1024)              4096      \n",
      "_________________________________________________________________\n",
      "re_lu_3 (ReLU)               (None, 1024)              0         \n",
      "_________________________________________________________________\n",
      "dense_12 (Dense)             (None, 1024)              1049600   \n",
      "_________________________________________________________________\n",
      "batch_normalization_4 (Batch (None, 1024)              4096      \n",
      "_________________________________________________________________\n",
      "re_lu_4 (ReLU)               (None, 1024)              0         \n",
      "_________________________________________________________________\n",
      "dense_13 (Dense)             (None, 2)                 2050      \n",
      "=================================================================\n",
      "Total params: 1,062,914\n",
      "Trainable params: 1,058,818\n",
      "Non-trainable params: 4,096\n",
      "_________________________________________________________________\n",
      "epoch: 0 generator_loss: -1.5255005 discriminator_loss: 0.015469718\n",
      "(1.0, 0.5012, 11.382782, 0.07678916608735964)\n"
     ]
    },
    {
     "data": {
      "image/png": "[encoded data removed]",
      "text/plain": [
       "<Figure size 144x144 with 1 Axes>"
      ]
     },
     "metadata": {
      "needs_background": "light"
     },
     "output_type": "display_data"
    },
    {
     "name": "stdout",
     "output_type": "stream",
     "text": [
      "epoch: 1000 generator_loss: -1.3742149 discriminator_loss: -0.028311282\n",
      "(10.0, 0.0592, 0.20887855, 0.01579518850892782)\n"
     ]
    },
    {
     "data": {
      "image/png": "[encoded data removed]",
      "text/plain": [
       "<Figure size 144x144 with 1 Axes>"
      ]
     },
     "metadata": {
      "needs_background": "light"
     },
     "output_type": "display_data"
    },
    {
     "name": "stdout",
     "output_type": "stream",
     "text": [
      "epoch: 2000 generator_loss: -1.4475076 discriminator_loss: -0.091410935\n",
      "(12.0, 0.1036, 0.08836128, 0.01292837779968977)\n"
     ]
    },
    {
     "data": {
      "image/png": "[encoded data removed]",
      "text/plain": [
       "<Figure size 144x144 with 1 Axes>"
      ]
     },
     "metadata": {
      "needs_background": "light"
     },
     "output_type": "display_data"
    },
    {
     "name": "stdout",
     "output_type": "stream",
     "text": [
      "epoch: 3000 generator_loss: -1.537294 discriminator_loss: -0.2174581\n",
      "(10.0, 0.1296, 0.060724843, 0.011992137506604193)\n"
     ]
    },
    {
     "data": {
      "image/png": "[encoded data removed]",
      "text/plain": [
       "<Figure size 144x144 with 1 Axes>"
      ]
     },
     "metadata": {
      "needs_background": "light"
     },
     "output_type": "display_data"
    },
    {
     "ename": "KeyboardInterrupt",
     "evalue": "",
     "output_type": "error",
     "traceback": [
      "\u001b[0;31m---------------------------------------------------------------------------\u001b[0m",
      "\u001b[0;31mKeyboardInterrupt\u001b[0m                         Traceback (most recent call last)",
      "\u001b[0;32m<ipython-input-2-4179de1382d1>\u001b[0m in \u001b[0;36m<module>\u001b[0;34m\u001b[0m\n\u001b[1;32m    201\u001b[0m \u001b[0;34m\u001b[0m\u001b[0m\n\u001b[1;32m    202\u001b[0m \u001b[0;32mfor\u001b[0m \u001b[0mepoch\u001b[0m \u001b[0;32min\u001b[0m \u001b[0mrange\u001b[0m\u001b[0;34m(\u001b[0m\u001b[0mepochs\u001b[0m\u001b[0;34m)\u001b[0m\u001b[0;34m:\u001b[0m\u001b[0;34m\u001b[0m\u001b[0;34m\u001b[0m\u001b[0m\n\u001b[0;32m--> 203\u001b[0;31m     \u001b[0mgenerator_loss\u001b[0m\u001b[0;34m,\u001b[0m\u001b[0mdiscriminator_loss\u001b[0m \u001b[0;34m=\u001b[0m \u001b[0mtrain\u001b[0m\u001b[0;34m(\u001b[0m\u001b[0mdata\u001b[0m\u001b[0;34m)\u001b[0m\u001b[0;34m\u001b[0m\u001b[0;34m\u001b[0m\u001b[0m\n\u001b[0m\u001b[1;32m    204\u001b[0m     \u001b[0;32mif\u001b[0m \u001b[0mepoch\u001b[0m\u001b[0;34m%\u001b[0m\u001b[0;36m1000\u001b[0m \u001b[0;34m==\u001b[0m \u001b[0;36m0\u001b[0m\u001b[0;34m:\u001b[0m\u001b[0;34m\u001b[0m\u001b[0;34m\u001b[0m\u001b[0m\n\u001b[1;32m    205\u001b[0m         print(\"epoch:\",epoch,\n",
      "\u001b[0;32m/opt/conda/lib/python3.7/site-packages/tensorflow/python/eager/def_function.py\u001b[0m in \u001b[0;36m__call__\u001b[0;34m(self, *args, **kwds)\u001b[0m\n\u001b[1;32m    778\u001b[0m       \u001b[0;32melse\u001b[0m\u001b[0;34m:\u001b[0m\u001b[0;34m\u001b[0m\u001b[0;34m\u001b[0m\u001b[0m\n\u001b[1;32m    779\u001b[0m         \u001b[0mcompiler\u001b[0m \u001b[0;34m=\u001b[0m \u001b[0;34m\"nonXla\"\u001b[0m\u001b[0;34m\u001b[0m\u001b[0;34m\u001b[0m\u001b[0m\n\u001b[0;32m--> 780\u001b[0;31m         \u001b[0mresult\u001b[0m \u001b[0;34m=\u001b[0m \u001b[0mself\u001b[0m\u001b[0;34m.\u001b[0m\u001b[0m_call\u001b[0m\u001b[0;34m(\u001b[0m\u001b[0;34m*\u001b[0m\u001b[0margs\u001b[0m\u001b[0;34m,\u001b[0m \u001b[0;34m**\u001b[0m\u001b[0mkwds\u001b[0m\u001b[0;34m)\u001b[0m\u001b[0;34m\u001b[0m\u001b[0;34m\u001b[0m\u001b[0m\n\u001b[0m\u001b[1;32m    781\u001b[0m \u001b[0;34m\u001b[0m\u001b[0m\n\u001b[1;32m    782\u001b[0m       \u001b[0mnew_tracing_count\u001b[0m \u001b[0;34m=\u001b[0m \u001b[0mself\u001b[0m\u001b[0;34m.\u001b[0m\u001b[0m_get_tracing_count\u001b[0m\u001b[0;34m(\u001b[0m\u001b[0;34m)\u001b[0m\u001b[0;34m\u001b[0m\u001b[0;34m\u001b[0m\u001b[0m\n",
      "\u001b[0;32m/opt/conda/lib/python3.7/site-packages/tensorflow/python/eager/def_function.py\u001b[0m in \u001b[0;36m_call\u001b[0;34m(self, *args, **kwds)\u001b[0m\n\u001b[1;32m    805\u001b[0m       \u001b[0;31m# In this case we have created variables on the first call, so we run the\u001b[0m\u001b[0;34m\u001b[0m\u001b[0;34m\u001b[0m\u001b[0;34m\u001b[0m\u001b[0m\n\u001b[1;32m    806\u001b[0m       \u001b[0;31m# defunned version which is guaranteed to never create variables.\u001b[0m\u001b[0;34m\u001b[0m\u001b[0;34m\u001b[0m\u001b[0;34m\u001b[0m\u001b[0m\n\u001b[0;32m--> 807\u001b[0;31m       \u001b[0;32mreturn\u001b[0m \u001b[0mself\u001b[0m\u001b[0;34m.\u001b[0m\u001b[0m_stateless_fn\u001b[0m\u001b[0;34m(\u001b[0m\u001b[0;34m*\u001b[0m\u001b[0margs\u001b[0m\u001b[0;34m,\u001b[0m \u001b[0;34m**\u001b[0m\u001b[0mkwds\u001b[0m\u001b[0;34m)\u001b[0m  \u001b[0;31m# pylint: disable=not-callable\u001b[0m\u001b[0;34m\u001b[0m\u001b[0;34m\u001b[0m\u001b[0m\n\u001b[0m\u001b[1;32m    808\u001b[0m     \u001b[0;32melif\u001b[0m \u001b[0mself\u001b[0m\u001b[0;34m.\u001b[0m\u001b[0m_stateful_fn\u001b[0m \u001b[0;32mis\u001b[0m \u001b[0;32mnot\u001b[0m \u001b[0;32mNone\u001b[0m\u001b[0;34m:\u001b[0m\u001b[0;34m\u001b[0m\u001b[0;34m\u001b[0m\u001b[0m\n\u001b[1;32m    809\u001b[0m       \u001b[0;31m# Release the lock early so that multiple threads can perform the call\u001b[0m\u001b[0;34m\u001b[0m\u001b[0;34m\u001b[0m\u001b[0;34m\u001b[0m\u001b[0m\n",
      "\u001b[0;32m/opt/conda/lib/python3.7/site-packages/tensorflow/python/eager/function.py\u001b[0m in \u001b[0;36m__call__\u001b[0;34m(self, *args, **kwargs)\u001b[0m\n\u001b[1;32m   2827\u001b[0m     \u001b[0;32mwith\u001b[0m \u001b[0mself\u001b[0m\u001b[0;34m.\u001b[0m\u001b[0m_lock\u001b[0m\u001b[0;34m:\u001b[0m\u001b[0;34m\u001b[0m\u001b[0;34m\u001b[0m\u001b[0m\n\u001b[1;32m   2828\u001b[0m       \u001b[0mgraph_function\u001b[0m\u001b[0;34m,\u001b[0m \u001b[0margs\u001b[0m\u001b[0;34m,\u001b[0m \u001b[0mkwargs\u001b[0m \u001b[0;34m=\u001b[0m \u001b[0mself\u001b[0m\u001b[0;34m.\u001b[0m\u001b[0m_maybe_define_function\u001b[0m\u001b[0;34m(\u001b[0m\u001b[0margs\u001b[0m\u001b[0;34m,\u001b[0m \u001b[0mkwargs\u001b[0m\u001b[0;34m)\u001b[0m\u001b[0;34m\u001b[0m\u001b[0;34m\u001b[0m\u001b[0m\n\u001b[0;32m-> 2829\u001b[0;31m     \u001b[0;32mreturn\u001b[0m \u001b[0mgraph_function\u001b[0m\u001b[0;34m.\u001b[0m\u001b[0m_filtered_call\u001b[0m\u001b[0;34m(\u001b[0m\u001b[0margs\u001b[0m\u001b[0;34m,\u001b[0m \u001b[0mkwargs\u001b[0m\u001b[0;34m)\u001b[0m  \u001b[0;31m# pylint: disable=protected-access\u001b[0m\u001b[0;34m\u001b[0m\u001b[0;34m\u001b[0m\u001b[0m\n\u001b[0m\u001b[1;32m   2830\u001b[0m \u001b[0;34m\u001b[0m\u001b[0m\n\u001b[1;32m   2831\u001b[0m   \u001b[0;34m@\u001b[0m\u001b[0mproperty\u001b[0m\u001b[0;34m\u001b[0m\u001b[0;34m\u001b[0m\u001b[0m\n",
      "\u001b[0;32m/opt/conda/lib/python3.7/site-packages/tensorflow/python/eager/function.py\u001b[0m in \u001b[0;36m_filtered_call\u001b[0;34m(self, args, kwargs, cancellation_manager)\u001b[0m\n\u001b[1;32m   1846\u001b[0m                            resource_variable_ops.BaseResourceVariable))],\n\u001b[1;32m   1847\u001b[0m         \u001b[0mcaptured_inputs\u001b[0m\u001b[0;34m=\u001b[0m\u001b[0mself\u001b[0m\u001b[0;34m.\u001b[0m\u001b[0mcaptured_inputs\u001b[0m\u001b[0;34m,\u001b[0m\u001b[0;34m\u001b[0m\u001b[0;34m\u001b[0m\u001b[0m\n\u001b[0;32m-> 1848\u001b[0;31m         cancellation_manager=cancellation_manager)\n\u001b[0m\u001b[1;32m   1849\u001b[0m \u001b[0;34m\u001b[0m\u001b[0m\n\u001b[1;32m   1850\u001b[0m   \u001b[0;32mdef\u001b[0m \u001b[0m_call_flat\u001b[0m\u001b[0;34m(\u001b[0m\u001b[0mself\u001b[0m\u001b[0;34m,\u001b[0m \u001b[0margs\u001b[0m\u001b[0;34m,\u001b[0m \u001b[0mcaptured_inputs\u001b[0m\u001b[0;34m,\u001b[0m \u001b[0mcancellation_manager\u001b[0m\u001b[0;34m=\u001b[0m\u001b[0;32mNone\u001b[0m\u001b[0;34m)\u001b[0m\u001b[0;34m:\u001b[0m\u001b[0;34m\u001b[0m\u001b[0;34m\u001b[0m\u001b[0m\n",
      "\u001b[0;32m/opt/conda/lib/python3.7/site-packages/tensorflow/python/eager/function.py\u001b[0m in \u001b[0;36m_call_flat\u001b[0;34m(self, args, captured_inputs, cancellation_manager)\u001b[0m\n\u001b[1;32m   1922\u001b[0m       \u001b[0;31m# No tape is watching; skip to running the function.\u001b[0m\u001b[0;34m\u001b[0m\u001b[0;34m\u001b[0m\u001b[0;34m\u001b[0m\u001b[0m\n\u001b[1;32m   1923\u001b[0m       return self._build_call_outputs(self._inference_function.call(\n\u001b[0;32m-> 1924\u001b[0;31m           ctx, args, cancellation_manager=cancellation_manager))\n\u001b[0m\u001b[1;32m   1925\u001b[0m     forward_backward = self._select_forward_and_backward_functions(\n\u001b[1;32m   1926\u001b[0m         \u001b[0margs\u001b[0m\u001b[0;34m,\u001b[0m\u001b[0;34m\u001b[0m\u001b[0;34m\u001b[0m\u001b[0m\n",
      "\u001b[0;32m/opt/conda/lib/python3.7/site-packages/tensorflow/python/eager/function.py\u001b[0m in \u001b[0;36mcall\u001b[0;34m(self, ctx, args, cancellation_manager)\u001b[0m\n\u001b[1;32m    548\u001b[0m               \u001b[0minputs\u001b[0m\u001b[0;34m=\u001b[0m\u001b[0margs\u001b[0m\u001b[0;34m,\u001b[0m\u001b[0;34m\u001b[0m\u001b[0;34m\u001b[0m\u001b[0m\n\u001b[1;32m    549\u001b[0m               \u001b[0mattrs\u001b[0m\u001b[0;34m=\u001b[0m\u001b[0mattrs\u001b[0m\u001b[0;34m,\u001b[0m\u001b[0;34m\u001b[0m\u001b[0;34m\u001b[0m\u001b[0m\n\u001b[0;32m--> 550\u001b[0;31m               ctx=ctx)\n\u001b[0m\u001b[1;32m    551\u001b[0m         \u001b[0;32melse\u001b[0m\u001b[0;34m:\u001b[0m\u001b[0;34m\u001b[0m\u001b[0;34m\u001b[0m\u001b[0m\n\u001b[1;32m    552\u001b[0m           outputs = execute.execute_with_cancellation(\n",
      "\u001b[0;32m/opt/conda/lib/python3.7/site-packages/tensorflow/python/eager/execute.py\u001b[0m in \u001b[0;36mquick_execute\u001b[0;34m(op_name, num_outputs, inputs, attrs, ctx, name)\u001b[0m\n\u001b[1;32m     58\u001b[0m     \u001b[0mctx\u001b[0m\u001b[0;34m.\u001b[0m\u001b[0mensure_initialized\u001b[0m\u001b[0;34m(\u001b[0m\u001b[0;34m)\u001b[0m\u001b[0;34m\u001b[0m\u001b[0;34m\u001b[0m\u001b[0m\n\u001b[1;32m     59\u001b[0m     tensors = pywrap_tfe.TFE_Py_Execute(ctx._handle, device_name, op_name,\n\u001b[0;32m---> 60\u001b[0;31m                                         inputs, attrs, num_outputs)\n\u001b[0m\u001b[1;32m     61\u001b[0m   \u001b[0;32mexcept\u001b[0m \u001b[0mcore\u001b[0m\u001b[0;34m.\u001b[0m\u001b[0m_NotOkStatusException\u001b[0m \u001b[0;32mas\u001b[0m \u001b[0me\u001b[0m\u001b[0;34m:\u001b[0m\u001b[0;34m\u001b[0m\u001b[0;34m\u001b[0m\u001b[0m\n\u001b[1;32m     62\u001b[0m     \u001b[0;32mif\u001b[0m \u001b[0mname\u001b[0m \u001b[0;32mis\u001b[0m \u001b[0;32mnot\u001b[0m \u001b[0;32mNone\u001b[0m\u001b[0;34m:\u001b[0m\u001b[0;34m\u001b[0m\u001b[0;34m\u001b[0m\u001b[0m\n",
      "\u001b[0;31mKeyboardInterrupt\u001b[0m: "
     ]
    }
   ],
   "source": [
    "batch_size=data.shape[0]\n",
    "z_dim = 2\n",
    "units = 1024\n",
    "# ========================== generator ===========================\n",
    "z_in = tf.keras.layers.Input(shape=(z_dim, ))\n",
    "inputs = tf.keras.layers.Dense(units)(z_in)\n",
    "inputs = tf.keras.layers.BatchNormalization()(inputs)\n",
    "inputs = tf.keras.layers.ReLU()(inputs)\n",
    "\n",
    "inputs = tf.keras.layers.Dense(units)(inputs)\n",
    "inputs = tf.keras.layers.BatchNormalization()(inputs)\n",
    "inputs = tf.keras.layers.ReLU()(inputs)\n",
    "\n",
    "inputs = tf.keras.layers.Dense(units)(inputs)\n",
    "inputs = tf.keras.layers.BatchNormalization()(inputs)\n",
    "inputs = tf.keras.layers.ReLU()(inputs)\n",
    "\n",
    "\n",
    "\n",
    "inputs = tf.keras.layers.Dense(z_dim)(inputs)\n",
    "generator = tf.keras.Model(z_in, inputs)\n",
    "generator.summary()\n",
    "sample_z = tf.random.uniform((batch_size,z_dim),minval=-1,maxval=1)\n",
    "generator(sample_z).shape\n",
    "\n",
    "\n",
    "# ========================== discriminator ===========================\n",
    "x_in = tf.keras.layers.Input(shape=(z_dim, )) #\n",
    "inputs = tf.keras.layers.Dense(units)(x_in)\n",
    "inputs = tf.keras.layers.BatchNormalization()(inputs)\n",
    "inputs = tf.keras.layers.ReLU()(inputs)\n",
    "\n",
    "inputs = tf.keras.layers.Dense(units)(inputs)\n",
    "inputs = tf.keras.layers.BatchNormalization()(inputs)\n",
    "inputs = tf.keras.layers.ReLU()(inputs)\n",
    "\n",
    "\n",
    "\n",
    "inputs = tf.keras.layers.Dense(z_dim)(inputs) \n",
    "discriminator = tf.keras.Model(x_in, inputs)\n",
    "discriminator.summary()\n",
    "discriminator(data).shape\n",
    "\n",
    "\n",
    "\n",
    "class LearnedKernel(tf.keras.Model):\n",
    "\n",
    "  def __init__(self, is_use_softmax = False, is_use_one_hot = False):\n",
    "    super(LearnedKernel,self).__init__()\n",
    "    self.is_use_softmax = is_use_softmax\n",
    "    self.is_use_one_hot = is_use_one_hot\n",
    "    self.kernel_function = [self.gaussian_kernel, self.rbf_kernel, self.laplacian_kernel, \n",
    "                 self.exponential_kernel, self.martern_3_2_kernel, self.martern_5_2_kernel]\n",
    "    self.variable_one = tf.ones((len(self.kernel_function,)))\n",
    "\n",
    "  def build(self, input_shape):\n",
    "    self.kernel_weight = self.add_weight(\"kernel_weight\", shape=[len(self.kernel_function)])\n",
    "\n",
    "  def call(self, x, y):\n",
    "    kernel_weight = self.kernel_weight\n",
    "    if self.is_use_softmax:\n",
    "      kernel_weight = tf.nn.softmax(tf.multiply(self.kernel_weight, self.variable_one))\n",
    "\n",
    "      if self.is_use_one_hot:\n",
    "        # generae one_hot vector\n",
    "        masked_one_hot = tf.one_hot(tf.argmax(kernel_weight), len(self.kernel_function))\n",
    "        kernel_weight = tf.multiply(kernel_weight, masked_one_hot)\n",
    "\n",
    "    # print(\"kernel_weight\", kernel_weight)\n",
    "    output = 0\n",
    "    for i in range(len(self.kernel_function)):\n",
    "      output += kernel_weight[i] * self.kernel_function[i](x,y)\n",
    "    return output\n",
    "\n",
    "  def gaussian_kernel(self, a,b, sigma=10):\n",
    "    return tf.exp(-tf.divide(tf.norm(a-b,axis=-1)**2, 2*sigma**2))\n",
    "  def rbf_kernel(self, a,b, K=5):\n",
    "    k = 0\n",
    "    sigma_q = 0.5\n",
    "    for k in range(K):\n",
    "      k += self.gaussian_kernel(a,b,sigma_q)\n",
    "      sigma_q *= 2\n",
    "    return k\n",
    "  def laplacian_kernel(self, a,b, sigma=100):\n",
    "    return tf.exp(-tf.divide(tf.norm(a-b, ord=1, axis=-1), sigma))\n",
    "  def exponential_kernel(self, a,b,sigma=10):\n",
    "    return tf.exp(-tf.divide(tf.norm(a-b, axis=-1), sigma))\n",
    "  def martern_3_2_kernel(self, a,b,alpha=1,l=10):\n",
    "    sqrt_3 = tf.sqrt(3.)\n",
    "    def r_function(a,b):\n",
    "      return tf.norm(a-b, axis=-1)/l\n",
    "    r = r_function(a,b)\n",
    "    return alpha*(1+sqrt_3*r)*tf.exp(-sqrt_3*r)\n",
    "  def martern_5_2_kernel(self, a,b,alpha=1,l=10):\n",
    "    sqrt_5 = tf.sqrt(5.)\n",
    "    def r_function(a,b):\n",
    "      return tf.norm(a-b, axis=-1)/l\n",
    "    r = r_function(a,b)\n",
    "    return alpha*(1+sqrt_5*r+(5./3.)*r**2)*tf.exp(-sqrt_5*r)\n",
    "\n",
    "learned_kernel = LearnedKernel(is_use_softmax = True, is_use_one_hot = False)\n",
    "\n",
    "\n",
    "\n",
    "\n",
    "loss_obj = tf.nn.sigmoid_cross_entropy_with_logits\n",
    "lr = 1e-4\n",
    "generator_optimizer = tf.optimizers.RMSprop(lr,0.99)\n",
    "discriminator_optimizer = tf.optimizers.RMSprop(lr,0.99)\n",
    "\n",
    "\n",
    "def loss_ones_fn(logits):\n",
    "  y = tf.ones_like(logits)\n",
    "  loss = loss_obj(y,logits)\n",
    "  return tf.reduce_mean(loss)\n",
    "def loss_zeros_fn(logits):\n",
    "  y = tf.zeros_like(logits)\n",
    "  loss = loss_obj(y,logits)\n",
    "  return tf.reduce_mean(loss)\n",
    "def correlation(x, y):\n",
    "    x = tf.reshape(x,shape=(x.shape[0], -1))\n",
    "    y = tf.reshape(y,shape=(y.shape[0], -1))\n",
    "    x = x - tf.reduce_mean(x, 1, keepdims=True)\n",
    "    y = y - tf.reduce_mean(y, 1, keepdims=True)\n",
    "    x = tf.nn.l2_normalize(x, 1)\n",
    "    y = tf.nn.l2_normalize(y, 1)\n",
    "    return tf.reduce_sum(x * y, 1)\n",
    "def cosine_similarity_loss(a,b):\n",
    "  return tf.divide(tf.reduce_sum(tf.multiply(a,b),axis=1),tf.norm(a,axis=1)*tf.norm(b,axis=1))\n",
    "\n",
    "def gaussian_kernel(a,b, sigma=10):\n",
    "  return tf.exp(-tf.divide(tf.norm(a-b,axis=-1)**2, 2*sigma**2))\n",
    "def rbf_kernel(a,b, K=5):\n",
    "  k = 0\n",
    "  sigma_q = 0.5\n",
    "  for k in range(K):\n",
    "    k += gaussian_kernel(a,b,sigma_q)\n",
    "    sigma_q *= 2\n",
    "  return k\n",
    "def laplacian_kernel(a,b, sigma=100):\n",
    "  return tf.exp(-tf.divide(tf.norm(a-b, ord=1, axis=-1), sigma))\n",
    "def exponential_kernel(a,b,sigma=10):\n",
    "  return tf.exp(-tf.divide(tf.norm(a-b, axis=-1), sigma))\n",
    "def martern_3_2_kernel(a,b,alpha=1,l=10):\n",
    "  sqrt_3 = tf.sqrt(3.)\n",
    "  def r_function(a,b):\n",
    "    return tf.norm(a-b, axis=-1)/l\n",
    "  r = r_function(a,b)\n",
    "  return alpha*(1+sqrt_3*r)*tf.exp(-sqrt_3*r)\n",
    "def martern_5_2_kernel(a,b,alpha=1,l=10):\n",
    "  sqrt_5 = tf.sqrt(5.)\n",
    "  def r_function(a,b):\n",
    "    return tf.norm(a-b, axis=-1)/l\n",
    "  r = r_function(a,b)\n",
    "  return alpha*(1+sqrt_5*r+(5./3.)*r**2)*tf.exp(-sqrt_5*r)\n",
    "\n",
    "def gradient_penalty(real_data, generated_data):\n",
    "    alpha = tf.random.uniform((batch_size,1,),minval=0,maxval=1,dtype=tf.float32)\n",
    "\n",
    "    interpolated = alpha * real_data + (1 - alpha) * generated_data\n",
    "    with tf.GradientTape() as tape:\n",
    "        tape.watch(interpolated)\n",
    "        prob_interpolated = discriminator(interpolated)\n",
    "    gradients = tape.gradient(prob_interpolated,interpolated)\n",
    "    gradients = tf.reshape(gradients,(batch_size,-1))\n",
    "    gradients_norm = tf.sqrt(tf.reduce_sum(gradients ** 2, axis=1))\n",
    "    # Return gradient penalty\n",
    "    return 0.01*tf.reduce_mean((gradients_norm - 1) ** 2)\n",
    "\n",
    "\n",
    "\n",
    "@tf.function\n",
    "def train(real_images,k=learned_kernel, _lambda=0.5):\n",
    "    \n",
    "    # Note that we don't use gradient panelty on sythetic datasets.\n",
    "    # train discrimnator\n",
    "#     for i in range(5):\n",
    "    with tf.GradientTape() as discriminator_tape:\n",
    "        z = tf.random.uniform((batch_size, z_dim),minval=-1.0, maxval=1.0)\n",
    "        x = generator(z)  \n",
    "        x_fake = discriminator(x)\n",
    "        discriminator_loss = -k(z,discriminator(real_images)) + k(x_fake,z)  #+ gradient_penalty(real_images,x)\n",
    "        discriminator_loss = tf.reduce_mean(discriminator_loss)  \n",
    "    discriminator_grads = discriminator_tape.gradient(discriminator_loss, discriminator.trainable_variables+learned_kernel.trainable_variables )\n",
    "    discriminator_optimizer.apply_gradients(zip(discriminator_grads, discriminator.trainable_variables+learned_kernel.trainable_variables ))\n",
    "\n",
    "    # train generator\n",
    "    with tf.GradientTape() as generator_tape:\n",
    "        z  = tf.random.uniform((batch_size, z_dim),minval=-1.0,maxval=1.0)\n",
    "        x_fake = discriminator(generator(z))\n",
    "        generator_loss = tf.reduce_mean(-k(x_fake,z))\n",
    "    generator_grads = generator_tape.gradient(generator_loss, generator.trainable_variables+learned_kernel.trainable_variables)\n",
    "    generator_optimizer.apply_gradients(zip(generator_grads, generator.trainable_variables+learned_kernel.trainable_variables))\n",
    "    return generator_loss,discriminator_loss\n",
    "\n",
    "data = tf.cast(data,tf.float32)\n",
    "train(data)\n",
    "\n",
    "\n",
    "epochs = epochs\n",
    "\n",
    "for epoch in range(epochs):\n",
    "    generator_loss,discriminator_loss = train(data)\n",
    "    if epoch%1000 == 0:\n",
    "        print(\"epoch:\",epoch,\n",
    "              \"generator_loss:\",generator_loss.numpy(), \n",
    "              \"discriminator_loss:\",discriminator_loss.numpy())  \n",
    "        sample_z = tf.random.uniform((batch_size,z_dim), minval=-1, maxval=1)\n",
    "        sample_fake_image = generator(sample_z)\n",
    "        print(test_diversity_of_GAN(generator,1))\n",
    "        show_scatter(sample_fake_image.numpy())"
   ]
  },
  {
   "cell_type": "markdown",
   "metadata": {
    "id": "25Bbr7y7bZQF"
   },
   "source": [
    "# CKGAN using single characteristic kernel"
   ]
  },
  {
   "cell_type": "code",
   "execution_count": 4,
   "metadata": {},
   "outputs": [
    {
     "name": "stdout",
     "output_type": "stream",
     "text": [
      "Model: \"functional_9\"\n",
      "_________________________________________________________________\n",
      "Layer (type)                 Output Shape              Param #   \n",
      "=================================================================\n",
      "input_5 (InputLayer)         [(None, 2)]               0         \n",
      "_________________________________________________________________\n",
      "dense_21 (Dense)             (None, 1024)              3072      \n",
      "_________________________________________________________________\n",
      "batch_normalization_10 (Batc (None, 1024)              4096      \n",
      "_________________________________________________________________\n",
      "re_lu_10 (ReLU)              (None, 1024)              0         \n",
      "_________________________________________________________________\n",
      "dense_22 (Dense)             (None, 1024)              1049600   \n",
      "_________________________________________________________________\n",
      "batch_normalization_11 (Batc (None, 1024)              4096      \n",
      "_________________________________________________________________\n",
      "re_lu_11 (ReLU)              (None, 1024)              0         \n",
      "_________________________________________________________________\n",
      "dense_23 (Dense)             (None, 1024)              1049600   \n",
      "_________________________________________________________________\n",
      "batch_normalization_12 (Batc (None, 1024)              4096      \n",
      "_________________________________________________________________\n",
      "re_lu_12 (ReLU)              (None, 1024)              0         \n",
      "_________________________________________________________________\n",
      "dense_24 (Dense)             (None, 2)                 2050      \n",
      "=================================================================\n",
      "Total params: 2,116,610\n",
      "Trainable params: 2,110,466\n",
      "Non-trainable params: 6,144\n",
      "_________________________________________________________________\n",
      "Model: \"functional_11\"\n",
      "_________________________________________________________________\n",
      "Layer (type)                 Output Shape              Param #   \n",
      "=================================================================\n",
      "input_6 (InputLayer)         [(None, 2)]               0         \n",
      "_________________________________________________________________\n",
      "dense_25 (Dense)             (None, 1024)              3072      \n",
      "_________________________________________________________________\n",
      "batch_normalization_13 (Batc (None, 1024)              4096      \n",
      "_________________________________________________________________\n",
      "re_lu_13 (ReLU)              (None, 1024)              0         \n",
      "_________________________________________________________________\n",
      "dense_26 (Dense)             (None, 1024)              1049600   \n",
      "_________________________________________________________________\n",
      "batch_normalization_14 (Batc (None, 1024)              4096      \n",
      "_________________________________________________________________\n",
      "re_lu_14 (ReLU)              (None, 1024)              0         \n",
      "_________________________________________________________________\n",
      "dense_27 (Dense)             (None, 2)                 2050      \n",
      "=================================================================\n",
      "Total params: 1,062,914\n",
      "Trainable params: 1,058,818\n",
      "Non-trainable params: 4,096\n",
      "_________________________________________________________________\n",
      "epoch: 0 generator_loss: -0.9966316 discriminator_loss: 0.004850744\n",
      "(1.0, 0.9752, 11.510927, 0.07679410943767903)\n"
     ]
    },
    {
     "data": {
      "image/png": "[encoded data removed]",
      "text/plain": [
       "<Figure size 144x144 with 1 Axes>"
      ]
     },
     "metadata": {
      "needs_background": "light"
     },
     "output_type": "display_data"
    },
    {
     "name": "stdout",
     "output_type": "stream",
     "text": [
      "epoch: 1000 generator_loss: -0.5063426 discriminator_loss: -0.052393213\n",
      "(13.0, 0.0896, 0.062084734, 0.011967502012848854)\n"
     ]
    },
    {
     "data": {
      "image/png": "[encoded data removed]",
      "text/plain": [
       "<Figure size 144x144 with 1 Axes>"
      ]
     },
     "metadata": {
      "needs_background": "light"
     },
     "output_type": "display_data"
    },
    {
     "name": "stdout",
     "output_type": "stream",
     "text": [
      "epoch: 2000 generator_loss: -0.5290874 discriminator_loss: -0.14624637\n",
      "(11.0, 0.0992, 0.057247214, 0.011911015287041663)\n"
     ]
    },
    {
     "data": {
      "image/png": "[encoded data removed]",
      "text/plain": [
       "<Figure size 144x144 with 1 Axes>"
      ]
     },
     "metadata": {
      "needs_background": "light"
     },
     "output_type": "display_data"
    },
    {
     "name": "stdout",
     "output_type": "stream",
     "text": [
      "epoch: 3000 generator_loss: -0.59908897 discriminator_loss: -0.19412129\n",
      "(16.0, 0.1312, 0.06918753, 0.012735335491597655)\n"
     ]
    },
    {
     "data": {
      "image/png": "[encoded data removed]",
      "text/plain": [
       "<Figure size 144x144 with 1 Axes>"
      ]
     },
     "metadata": {
      "needs_background": "light"
     },
     "output_type": "display_data"
    },
    {
     "name": "stdout",
     "output_type": "stream",
     "text": [
      "epoch: 4000 generator_loss: -0.5713131 discriminator_loss: -0.20219418\n",
      "(12.0, 0.1604, 0.08671423, 0.012627020627260208)\n"
     ]
    },
    {
     "data": {
      "image/png": "[encoded data removed]",
      "text/plain": [
       "<Figure size 144x144 with 1 Axes>"
      ]
     },
     "metadata": {
      "needs_background": "light"
     },
     "output_type": "display_data"
    },
    {
     "name": "stdout",
     "output_type": "stream",
     "text": [
      "epoch: 5000 generator_loss: -0.5662387 discriminator_loss: -0.2253646\n",
      "(16.0, 0.176, 0.06695188, 0.009929119385778904)\n"
     ]
    },
    {
     "data": {
      "image/png": "[encoded data removed]",
      "text/plain": [
       "<Figure size 144x144 with 1 Axes>"
      ]
     },
     "metadata": {
      "needs_background": "light"
     },
     "output_type": "display_data"
    },
    {
     "name": "stdout",
     "output_type": "stream",
     "text": [
      "epoch: 6000 generator_loss: -0.528683 discriminator_loss: -0.20025362\n",
      "(16.0, 0.2004, 0.07624303, 0.009498666450381279)\n"
     ]
    },
    {
     "data": {
      "image/png": "[encoded data removed]",
      "text/plain": [
       "<Figure size 144x144 with 1 Axes>"
      ]
     },
     "metadata": {
      "needs_background": "light"
     },
     "output_type": "display_data"
    },
    {
     "name": "stdout",
     "output_type": "stream",
     "text": [
      "epoch: 7000 generator_loss: -0.5932169 discriminator_loss: -0.20410328\n",
      "(19.0, 0.2688, 0.10878839, 0.009698730055242778)\n"
     ]
    },
    {
     "data": {
      "image/png": "[encoded data removed]",
      "text/plain": [
       "<Figure size 144x144 with 1 Axes>"
      ]
     },
     "metadata": {
      "needs_background": "light"
     },
     "output_type": "display_data"
    },
    {
     "name": "stdout",
     "output_type": "stream",
     "text": [
      "epoch: 8000 generator_loss: -0.28873482 discriminator_loss: -0.21538061\n",
      "(19.0, 0.3144, 0.08664332, 0.009137880466878414)\n"
     ]
    },
    {
     "data": {
      "image/png": "[encoded data removed]",
      "text/plain": [
       "<Figure size 144x144 with 1 Axes>"
      ]
     },
     "metadata": {
      "needs_background": "light"
     },
     "output_type": "display_data"
    },
    {
     "ename": "KeyboardInterrupt",
     "evalue": "",
     "output_type": "error",
     "traceback": [
      "\u001b[0;31m---------------------------------------------------------------------------\u001b[0m",
      "\u001b[0;31mKeyboardInterrupt\u001b[0m                         Traceback (most recent call last)",
      "\u001b[0;32m<ipython-input-4-50bde5b7a002>\u001b[0m in \u001b[0;36m<module>\u001b[0;34m\u001b[0m\n\u001b[1;32m    140\u001b[0m \u001b[0;34m\u001b[0m\u001b[0m\n\u001b[1;32m    141\u001b[0m \u001b[0;32mfor\u001b[0m \u001b[0mepoch\u001b[0m \u001b[0;32min\u001b[0m \u001b[0mrange\u001b[0m\u001b[0;34m(\u001b[0m\u001b[0mepochs\u001b[0m\u001b[0;34m)\u001b[0m\u001b[0;34m:\u001b[0m\u001b[0;34m\u001b[0m\u001b[0;34m\u001b[0m\u001b[0m\n\u001b[0;32m--> 142\u001b[0;31m     \u001b[0mgenerator_loss\u001b[0m\u001b[0;34m,\u001b[0m\u001b[0mdiscriminator_loss\u001b[0m \u001b[0;34m=\u001b[0m \u001b[0mtrain\u001b[0m\u001b[0;34m(\u001b[0m\u001b[0mdata\u001b[0m\u001b[0;34m)\u001b[0m\u001b[0;34m\u001b[0m\u001b[0;34m\u001b[0m\u001b[0m\n\u001b[0m\u001b[1;32m    143\u001b[0m     \u001b[0;32mif\u001b[0m \u001b[0mepoch\u001b[0m\u001b[0;34m%\u001b[0m\u001b[0;36m1000\u001b[0m \u001b[0;34m==\u001b[0m \u001b[0;36m0\u001b[0m\u001b[0;34m:\u001b[0m\u001b[0;34m\u001b[0m\u001b[0;34m\u001b[0m\u001b[0m\n\u001b[1;32m    144\u001b[0m         print(\"epoch:\",epoch,\n",
      "\u001b[0;32m/opt/conda/lib/python3.7/site-packages/tensorflow/python/eager/def_function.py\u001b[0m in \u001b[0;36m__call__\u001b[0;34m(self, *args, **kwds)\u001b[0m\n\u001b[1;32m    778\u001b[0m       \u001b[0;32melse\u001b[0m\u001b[0;34m:\u001b[0m\u001b[0;34m\u001b[0m\u001b[0;34m\u001b[0m\u001b[0m\n\u001b[1;32m    779\u001b[0m         \u001b[0mcompiler\u001b[0m \u001b[0;34m=\u001b[0m \u001b[0;34m\"nonXla\"\u001b[0m\u001b[0;34m\u001b[0m\u001b[0;34m\u001b[0m\u001b[0m\n\u001b[0;32m--> 780\u001b[0;31m         \u001b[0mresult\u001b[0m \u001b[0;34m=\u001b[0m \u001b[0mself\u001b[0m\u001b[0;34m.\u001b[0m\u001b[0m_call\u001b[0m\u001b[0;34m(\u001b[0m\u001b[0;34m*\u001b[0m\u001b[0margs\u001b[0m\u001b[0;34m,\u001b[0m \u001b[0;34m**\u001b[0m\u001b[0mkwds\u001b[0m\u001b[0;34m)\u001b[0m\u001b[0;34m\u001b[0m\u001b[0;34m\u001b[0m\u001b[0m\n\u001b[0m\u001b[1;32m    781\u001b[0m \u001b[0;34m\u001b[0m\u001b[0m\n\u001b[1;32m    782\u001b[0m       \u001b[0mnew_tracing_count\u001b[0m \u001b[0;34m=\u001b[0m \u001b[0mself\u001b[0m\u001b[0;34m.\u001b[0m\u001b[0m_get_tracing_count\u001b[0m\u001b[0;34m(\u001b[0m\u001b[0;34m)\u001b[0m\u001b[0;34m\u001b[0m\u001b[0;34m\u001b[0m\u001b[0m\n",
      "\u001b[0;32m/opt/conda/lib/python3.7/site-packages/tensorflow/python/eager/def_function.py\u001b[0m in \u001b[0;36m_call\u001b[0;34m(self, *args, **kwds)\u001b[0m\n\u001b[1;32m    805\u001b[0m       \u001b[0;31m# In this case we have created variables on the first call, so we run the\u001b[0m\u001b[0;34m\u001b[0m\u001b[0;34m\u001b[0m\u001b[0;34m\u001b[0m\u001b[0m\n\u001b[1;32m    806\u001b[0m       \u001b[0;31m# defunned version which is guaranteed to never create variables.\u001b[0m\u001b[0;34m\u001b[0m\u001b[0;34m\u001b[0m\u001b[0;34m\u001b[0m\u001b[0m\n\u001b[0;32m--> 807\u001b[0;31m       \u001b[0;32mreturn\u001b[0m \u001b[0mself\u001b[0m\u001b[0;34m.\u001b[0m\u001b[0m_stateless_fn\u001b[0m\u001b[0;34m(\u001b[0m\u001b[0;34m*\u001b[0m\u001b[0margs\u001b[0m\u001b[0;34m,\u001b[0m \u001b[0;34m**\u001b[0m\u001b[0mkwds\u001b[0m\u001b[0;34m)\u001b[0m  \u001b[0;31m# pylint: disable=not-callable\u001b[0m\u001b[0;34m\u001b[0m\u001b[0;34m\u001b[0m\u001b[0m\n\u001b[0m\u001b[1;32m    808\u001b[0m     \u001b[0;32melif\u001b[0m \u001b[0mself\u001b[0m\u001b[0;34m.\u001b[0m\u001b[0m_stateful_fn\u001b[0m \u001b[0;32mis\u001b[0m \u001b[0;32mnot\u001b[0m \u001b[0;32mNone\u001b[0m\u001b[0;34m:\u001b[0m\u001b[0;34m\u001b[0m\u001b[0;34m\u001b[0m\u001b[0m\n\u001b[1;32m    809\u001b[0m       \u001b[0;31m# Release the lock early so that multiple threads can perform the call\u001b[0m\u001b[0;34m\u001b[0m\u001b[0;34m\u001b[0m\u001b[0;34m\u001b[0m\u001b[0m\n",
      "\u001b[0;32m/opt/conda/lib/python3.7/site-packages/tensorflow/python/eager/function.py\u001b[0m in \u001b[0;36m__call__\u001b[0;34m(self, *args, **kwargs)\u001b[0m\n\u001b[1;32m   2827\u001b[0m     \u001b[0;32mwith\u001b[0m \u001b[0mself\u001b[0m\u001b[0;34m.\u001b[0m\u001b[0m_lock\u001b[0m\u001b[0;34m:\u001b[0m\u001b[0;34m\u001b[0m\u001b[0;34m\u001b[0m\u001b[0m\n\u001b[1;32m   2828\u001b[0m       \u001b[0mgraph_function\u001b[0m\u001b[0;34m,\u001b[0m \u001b[0margs\u001b[0m\u001b[0;34m,\u001b[0m \u001b[0mkwargs\u001b[0m \u001b[0;34m=\u001b[0m \u001b[0mself\u001b[0m\u001b[0;34m.\u001b[0m\u001b[0m_maybe_define_function\u001b[0m\u001b[0;34m(\u001b[0m\u001b[0margs\u001b[0m\u001b[0;34m,\u001b[0m \u001b[0mkwargs\u001b[0m\u001b[0;34m)\u001b[0m\u001b[0;34m\u001b[0m\u001b[0;34m\u001b[0m\u001b[0m\n\u001b[0;32m-> 2829\u001b[0;31m     \u001b[0;32mreturn\u001b[0m \u001b[0mgraph_function\u001b[0m\u001b[0;34m.\u001b[0m\u001b[0m_filtered_call\u001b[0m\u001b[0;34m(\u001b[0m\u001b[0margs\u001b[0m\u001b[0;34m,\u001b[0m \u001b[0mkwargs\u001b[0m\u001b[0;34m)\u001b[0m  \u001b[0;31m# pylint: disable=protected-access\u001b[0m\u001b[0;34m\u001b[0m\u001b[0;34m\u001b[0m\u001b[0m\n\u001b[0m\u001b[1;32m   2830\u001b[0m \u001b[0;34m\u001b[0m\u001b[0m\n\u001b[1;32m   2831\u001b[0m   \u001b[0;34m@\u001b[0m\u001b[0mproperty\u001b[0m\u001b[0;34m\u001b[0m\u001b[0;34m\u001b[0m\u001b[0m\n",
      "\u001b[0;32m/opt/conda/lib/python3.7/site-packages/tensorflow/python/eager/function.py\u001b[0m in \u001b[0;36m_filtered_call\u001b[0;34m(self, args, kwargs, cancellation_manager)\u001b[0m\n\u001b[1;32m   1846\u001b[0m                            resource_variable_ops.BaseResourceVariable))],\n\u001b[1;32m   1847\u001b[0m         \u001b[0mcaptured_inputs\u001b[0m\u001b[0;34m=\u001b[0m\u001b[0mself\u001b[0m\u001b[0;34m.\u001b[0m\u001b[0mcaptured_inputs\u001b[0m\u001b[0;34m,\u001b[0m\u001b[0;34m\u001b[0m\u001b[0;34m\u001b[0m\u001b[0m\n\u001b[0;32m-> 1848\u001b[0;31m         cancellation_manager=cancellation_manager)\n\u001b[0m\u001b[1;32m   1849\u001b[0m \u001b[0;34m\u001b[0m\u001b[0m\n\u001b[1;32m   1850\u001b[0m   \u001b[0;32mdef\u001b[0m \u001b[0m_call_flat\u001b[0m\u001b[0;34m(\u001b[0m\u001b[0mself\u001b[0m\u001b[0;34m,\u001b[0m \u001b[0margs\u001b[0m\u001b[0;34m,\u001b[0m \u001b[0mcaptured_inputs\u001b[0m\u001b[0;34m,\u001b[0m \u001b[0mcancellation_manager\u001b[0m\u001b[0;34m=\u001b[0m\u001b[0;32mNone\u001b[0m\u001b[0;34m)\u001b[0m\u001b[0;34m:\u001b[0m\u001b[0;34m\u001b[0m\u001b[0;34m\u001b[0m\u001b[0m\n",
      "\u001b[0;32m/opt/conda/lib/python3.7/site-packages/tensorflow/python/eager/function.py\u001b[0m in \u001b[0;36m_call_flat\u001b[0;34m(self, args, captured_inputs, cancellation_manager)\u001b[0m\n\u001b[1;32m   1922\u001b[0m       \u001b[0;31m# No tape is watching; skip to running the function.\u001b[0m\u001b[0;34m\u001b[0m\u001b[0;34m\u001b[0m\u001b[0;34m\u001b[0m\u001b[0m\n\u001b[1;32m   1923\u001b[0m       return self._build_call_outputs(self._inference_function.call(\n\u001b[0;32m-> 1924\u001b[0;31m           ctx, args, cancellation_manager=cancellation_manager))\n\u001b[0m\u001b[1;32m   1925\u001b[0m     forward_backward = self._select_forward_and_backward_functions(\n\u001b[1;32m   1926\u001b[0m         \u001b[0margs\u001b[0m\u001b[0;34m,\u001b[0m\u001b[0;34m\u001b[0m\u001b[0;34m\u001b[0m\u001b[0m\n",
      "\u001b[0;32m/opt/conda/lib/python3.7/site-packages/tensorflow/python/eager/function.py\u001b[0m in \u001b[0;36mcall\u001b[0;34m(self, ctx, args, cancellation_manager)\u001b[0m\n\u001b[1;32m    548\u001b[0m               \u001b[0minputs\u001b[0m\u001b[0;34m=\u001b[0m\u001b[0margs\u001b[0m\u001b[0;34m,\u001b[0m\u001b[0;34m\u001b[0m\u001b[0;34m\u001b[0m\u001b[0m\n\u001b[1;32m    549\u001b[0m               \u001b[0mattrs\u001b[0m\u001b[0;34m=\u001b[0m\u001b[0mattrs\u001b[0m\u001b[0;34m,\u001b[0m\u001b[0;34m\u001b[0m\u001b[0;34m\u001b[0m\u001b[0m\n\u001b[0;32m--> 550\u001b[0;31m               ctx=ctx)\n\u001b[0m\u001b[1;32m    551\u001b[0m         \u001b[0;32melse\u001b[0m\u001b[0;34m:\u001b[0m\u001b[0;34m\u001b[0m\u001b[0;34m\u001b[0m\u001b[0m\n\u001b[1;32m    552\u001b[0m           outputs = execute.execute_with_cancellation(\n",
      "\u001b[0;32m/opt/conda/lib/python3.7/site-packages/tensorflow/python/eager/execute.py\u001b[0m in \u001b[0;36mquick_execute\u001b[0;34m(op_name, num_outputs, inputs, attrs, ctx, name)\u001b[0m\n\u001b[1;32m     58\u001b[0m     \u001b[0mctx\u001b[0m\u001b[0;34m.\u001b[0m\u001b[0mensure_initialized\u001b[0m\u001b[0;34m(\u001b[0m\u001b[0;34m)\u001b[0m\u001b[0;34m\u001b[0m\u001b[0;34m\u001b[0m\u001b[0m\n\u001b[1;32m     59\u001b[0m     tensors = pywrap_tfe.TFE_Py_Execute(ctx._handle, device_name, op_name,\n\u001b[0;32m---> 60\u001b[0;31m                                         inputs, attrs, num_outputs)\n\u001b[0m\u001b[1;32m     61\u001b[0m   \u001b[0;32mexcept\u001b[0m \u001b[0mcore\u001b[0m\u001b[0;34m.\u001b[0m\u001b[0m_NotOkStatusException\u001b[0m \u001b[0;32mas\u001b[0m \u001b[0me\u001b[0m\u001b[0;34m:\u001b[0m\u001b[0;34m\u001b[0m\u001b[0;34m\u001b[0m\u001b[0m\n\u001b[1;32m     62\u001b[0m     \u001b[0;32mif\u001b[0m \u001b[0mname\u001b[0m \u001b[0;32mis\u001b[0m \u001b[0;32mnot\u001b[0m \u001b[0;32mNone\u001b[0m\u001b[0;34m:\u001b[0m\u001b[0;34m\u001b[0m\u001b[0;34m\u001b[0m\u001b[0m\n",
      "\u001b[0;31mKeyboardInterrupt\u001b[0m: "
     ]
    }
   ],
   "source": [
    "batch_size=data.shape[0]\n",
    "z_dim = 2\n",
    "units = 1024\n",
    "# ========================== generator ===========================\n",
    "z_in = tf.keras.layers.Input(shape=(z_dim, ))\n",
    "inputs = tf.keras.layers.Dense(units)(z_in)\n",
    "inputs = tf.keras.layers.BatchNormalization()(inputs)\n",
    "inputs = tf.keras.layers.ReLU()(inputs)\n",
    "\n",
    "inputs = tf.keras.layers.Dense(units)(inputs)\n",
    "inputs = tf.keras.layers.BatchNormalization()(inputs)\n",
    "inputs = tf.keras.layers.ReLU()(inputs)\n",
    "\n",
    "inputs = tf.keras.layers.Dense(units)(inputs)\n",
    "inputs = tf.keras.layers.BatchNormalization()(inputs)\n",
    "inputs = tf.keras.layers.ReLU()(inputs)\n",
    "\n",
    "inputs = tf.keras.layers.Dense(z_dim)(inputs)\n",
    "generator = tf.keras.Model(z_in, inputs)\n",
    "generator.summary()\n",
    "sample_z = tf.random.uniform((batch_size,z_dim),minval=-1,maxval=1)\n",
    "generator(sample_z).shape\n",
    "\n",
    "\n",
    "# ========================== discriminator ===========================\n",
    "x_in = tf.keras.layers.Input(shape=(z_dim, )) #\n",
    "inputs = tf.keras.layers.Dense(units)(x_in)\n",
    "inputs = tf.keras.layers.BatchNormalization()(inputs)\n",
    "inputs = tf.keras.layers.ReLU()(inputs)\n",
    "\n",
    "inputs = tf.keras.layers.Dense(units)(inputs)\n",
    "inputs = tf.keras.layers.BatchNormalization()(inputs)\n",
    "inputs = tf.keras.layers.ReLU()(inputs)\n",
    "\n",
    "\n",
    "inputs = tf.keras.layers.Dense(z_dim)(inputs) \n",
    "discriminator = tf.keras.Model(x_in, inputs)\n",
    "discriminator.summary()\n",
    "discriminator(data).shape\n",
    "\n",
    "\n",
    "\n",
    "loss_obj = tf.nn.sigmoid_cross_entropy_with_logits\n",
    "lr = 1e-4\n",
    "generator_optimizer = tf.optimizers.RMSprop(lr,0.99)\n",
    "discriminator_optimizer = tf.optimizers.RMSprop(lr,0.99)\n",
    "\n",
    "\n",
    "def loss_ones_fn(logits):\n",
    "  y = tf.ones_like(logits)\n",
    "  loss = loss_obj(y,logits)\n",
    "  return tf.reduce_mean(loss)\n",
    "def loss_zeros_fn(logits):\n",
    "  y = tf.zeros_like(logits)\n",
    "  loss = loss_obj(y,logits)\n",
    "  return tf.reduce_mean(loss)\n",
    "def correlation(x, y):\n",
    "    x = tf.reshape(x,shape=(x.shape[0], -1))\n",
    "    y = tf.reshape(y,shape=(y.shape[0], -1))\n",
    "    x = x - tf.reduce_mean(x, 1, keepdims=True)\n",
    "    y = y - tf.reduce_mean(y, 1, keepdims=True)\n",
    "    x = tf.nn.l2_normalize(x, 1)\n",
    "    y = tf.nn.l2_normalize(y, 1)\n",
    "    return tf.reduce_sum(x * y, 1)\n",
    "def cosine_similarity_loss(a,b):\n",
    "  return tf.divide(tf.reduce_sum(tf.multiply(a,b),axis=1),tf.norm(a,axis=1)*tf.norm(b,axis=1))\n",
    "\n",
    "def gaussian_kernel(a,b, sigma=10):\n",
    "  return tf.exp(-tf.divide(tf.norm(a-b,axis=-1)**2, 2*sigma**2))\n",
    "def rbf_kernel(a,b, K=5):\n",
    "  k = 0\n",
    "  sigma_q = 0.5\n",
    "  for k in range(K):\n",
    "    k += gaussian_kernel(a,b,sigma_q)\n",
    "    sigma_q *= 2\n",
    "  return k\n",
    "def laplacian_kernel(a,b, sigma=100):\n",
    "  return tf.exp(-tf.divide(tf.norm(a-b, ord=1, axis=-1), sigma))\n",
    "def exponential_kernel(a,b,sigma=10):\n",
    "  return tf.exp(-tf.divide(tf.norm(a-b, axis=-1), sigma))\n",
    "def martern_3_2_kernel(a,b,alpha=1,l=10):\n",
    "  sqrt_3 = tf.sqrt(3.)\n",
    "  def r_function(a,b):\n",
    "    return tf.norm(a-b, axis=-1)/l\n",
    "  r = r_function(a,b)\n",
    "  return alpha*(1+sqrt_3*r)*tf.exp(-sqrt_3*r)\n",
    "def martern_5_2_kernel(a,b,alpha=1,l=10):\n",
    "  sqrt_5 = tf.sqrt(5.)\n",
    "  def r_function(a,b):\n",
    "    return tf.norm(a-b, axis=-1)/l\n",
    "  r = r_function(a,b)\n",
    "  return alpha*(1+sqrt_5*r+(5./3.)*r**2)*tf.exp(-sqrt_5*r)\n",
    "\n",
    "\n",
    "def gradient_penalty(real_data, generated_data):\n",
    "    alpha = tf.random.uniform((batch_size,1,),minval=0,maxval=1,dtype=tf.float32)\n",
    "\n",
    "    interpolated = alpha * real_data + (1 - alpha) * generated_data\n",
    "    with tf.GradientTape() as tape:\n",
    "        tape.watch(interpolated)\n",
    "        prob_interpolated = discriminator(interpolated)\n",
    "        gradients = tape.gradient(prob_interpolated,interpolated)\n",
    "\n",
    "    gradients = tf.reshape(gradients,(batch_size,-1))\n",
    "    gradients_norm = tf.sqrt(tf.reduce_sum(gradients ** 2, axis=1))\n",
    "    # Return gradient penalty\n",
    "    return 0.01*tf.reduce_mean((gradients_norm - 1) ** 2)\n",
    "\n",
    "\n",
    "\n",
    "@tf.function\n",
    "def train(real_images,k=gaussian_kernel, _lambda=0.5):\n",
    "    \n",
    "    # Note that we don't use gradient panelty on sythetic datasets.\n",
    "    # train discrimnator\n",
    "#     for i in range(5):\n",
    "    with tf.GradientTape() as discriminator_tape:\n",
    "        z = tf.random.uniform((batch_size, z_dim),minval=-1.0, maxval=1.0)\n",
    "        x = generator(z)  \n",
    "        x_fake = discriminator(x)\n",
    "        discriminator_loss = -k(z,discriminator(real_images)) + k(x_fake,z)  #+ gradient_penalty(real_images,x)\n",
    "        discriminator_loss = tf.reduce_mean(discriminator_loss)  \n",
    "    discriminator_grads = discriminator_tape.gradient(discriminator_loss, discriminator.trainable_variables )\n",
    "    discriminator_optimizer.apply_gradients(zip(discriminator_grads, discriminator.trainable_variables ))\n",
    "\n",
    "    # train generator\n",
    "    with tf.GradientTape() as generator_tape:\n",
    "        z  = tf.random.uniform((batch_size, z_dim),minval=-1.0,maxval=1.0)\n",
    "        x_fake = discriminator(generator(z))\n",
    "        generator_loss = tf.reduce_mean(-k(x_fake,z))\n",
    "    generator_grads = generator_tape.gradient(generator_loss, generator.trainable_variables)\n",
    "    generator_optimizer.apply_gradients(zip(generator_grads, generator.trainable_variables))\n",
    "    return generator_loss,discriminator_loss\n",
    "\n",
    "data = tf.cast(data,tf.float32)\n",
    "train(data)\n",
    "\n",
    "\n",
    "epochs = epochs\n",
    "\n",
    "for epoch in range(epochs):\n",
    "    generator_loss,discriminator_loss = train(data)\n",
    "    if epoch%1000 == 0:\n",
    "        print(\"epoch:\",epoch,\n",
    "              \"generator_loss:\",generator_loss.numpy(), \n",
    "              \"discriminator_loss:\",discriminator_loss.numpy())  \n",
    "        sample_z = tf.random.uniform((batch_size,z_dim), minval=-1, maxval=1)\n",
    "        sample_fake_image = generator(sample_z)\n",
    "        print(test_diversity_of_GAN(generator,1))\n",
    "        show_scatter(sample_fake_image.numpy())\n"
   ]
  },
  {
   "cell_type": "code",
   "execution_count": null,
   "metadata": {},
   "outputs": [],
   "source": []
  }
 ],
 "metadata": {
  "kernelspec": {
   "display_name": "Python 3",
   "language": "python",
   "name": "python3"
  },
  "language_info": {
   "codemirror_mode": {
    "name": "ipython",
    "version": 3
   },
   "file_extension": ".py",
   "mimetype": "text/x-python",
   "name": "python",
   "nbconvert_exporter": "python",
   "pygments_lexer": "ipython3",
   "version": "3.6.9"
  },
  "toc": {
   "base_numbering": 1,
   "nav_menu": {},
   "number_sections": true,
   "sideBar": true,
   "skip_h1_title": false,
   "title_cell": "Table of Contents",
   "title_sidebar": "Contents",
   "toc_cell": false,
   "toc_position": {},
   "toc_section_display": true,
   "toc_window_display": false
  }
 },
 "nbformat": 4,
 "nbformat_minor": 4
}
